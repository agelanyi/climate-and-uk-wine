{
 "cells": [
  {
   "cell_type": "markdown",
   "id": "4426fc8a-a48c-49b0-809c-790f69d381fb",
   "metadata": {},
   "source": [
    "## **GeoCoding Vineyards**\n",
    "#### This notebook attempts to GeoCode the Vineyards of the UK, from post codes to lattitude and longitude. \n",
    "#### Data is sourced from Skelton, S. 2021. English Wine Dataset. English Wine [Online]. [Accessed 1 May 2022]. Available from: http://www.englishwine.com/\n",
    "#### Despite the attempt, the code does not work. Instead gridreferencefinder.com/postcodeBatchConverter/ was used. "
   ]
  },
  {
   "cell_type": "code",
   "execution_count": 1,
   "id": "9b55ed03-03be-4232-9a30-d8d9a5b2e7c1",
   "metadata": {},
   "outputs": [
    {
     "name": "stdout",
     "output_type": "stream",
     "text": [
      "Collecting pgeocode\n",
      "  Downloading pgeocode-0.3.0-py3-none-any.whl (8.5 kB)\n",
      "Requirement already satisfied: requests in /opt/conda/envs/sds2021/lib/python3.9/site-packages (from pgeocode) (2.26.0)\n",
      "Requirement already satisfied: numpy in /opt/conda/envs/sds2021/lib/python3.9/site-packages (from pgeocode) (1.21.1)\n",
      "Requirement already satisfied: pandas in /opt/conda/envs/sds2021/lib/python3.9/site-packages (from pgeocode) (1.3.0)\n",
      "Requirement already satisfied: python-dateutil>=2.7.3 in /opt/conda/envs/sds2021/lib/python3.9/site-packages (from pandas->pgeocode) (2.8.0)\n",
      "Requirement already satisfied: pytz>=2017.3 in /opt/conda/envs/sds2021/lib/python3.9/site-packages (from pandas->pgeocode) (2021.1)\n",
      "Requirement already satisfied: six>=1.5 in /opt/conda/envs/sds2021/lib/python3.9/site-packages (from python-dateutil>=2.7.3->pandas->pgeocode) (1.16.0)\n",
      "Requirement already satisfied: idna<4,>=2.5 in /opt/conda/envs/sds2021/lib/python3.9/site-packages (from requests->pgeocode) (3.1)\n",
      "Requirement already satisfied: charset-normalizer~=2.0.0 in /opt/conda/envs/sds2021/lib/python3.9/site-packages (from requests->pgeocode) (2.0.0)\n",
      "Requirement already satisfied: certifi>=2017.4.17 in /opt/conda/envs/sds2021/lib/python3.9/site-packages (from requests->pgeocode) (2021.5.30)\n",
      "Requirement already satisfied: urllib3<1.27,>=1.21.1 in /opt/conda/envs/sds2021/lib/python3.9/site-packages (from requests->pgeocode) (1.25.11)\n",
      "Installing collected packages: pgeocode\n",
      "Successfully installed pgeocode-0.3.0\n",
      "Note: you may need to restart the kernel to use updated packages.\n"
     ]
    }
   ],
   "source": [
    "# Install required packages\n",
    "\n",
    "pip install pgeocode"
   ]
  },
  {
   "cell_type": "code",
   "execution_count": 51,
   "id": "aa7459bc-678e-49e7-8ac0-42fbeb4be20c",
   "metadata": {},
   "outputs": [],
   "source": [
    "# Import packages\n",
    "\n",
    "import pgeocode\n",
    "import pandas as pd\n",
    "import geopandas as gpd\n",
    "from geopy.geocoders import Nominatim\n"
   ]
  },
  {
   "cell_type": "code",
   "execution_count": 52,
   "id": "946c7e8c-eeff-4d0e-8acf-983714a37bc4",
   "metadata": {},
   "outputs": [],
   "source": [
    "# Select country for post code reference\n",
    "nomi = pgeocode.Nominatim('gb')"
   ]
  },
  {
   "cell_type": "code",
   "execution_count": 59,
   "id": "052ffa63-3a88-47e5-8a0d-b2f5fe262d36",
   "metadata": {},
   "outputs": [],
   "source": [
    "\n",
    "vineyards = pd.read_csv(\"https://raw.githubusercontent.com/agelanyi/climate-and-uk-wine/main/06-UK-Vineyard-Locations/Data/UK_Vineyards_V1_CSV.csv\")"
   ]
  },
  {
   "cell_type": "code",
   "execution_count": 25,
   "id": "1a925e5f-3827-4151-bfd2-dbbfe0beed7d",
   "metadata": {},
   "outputs": [],
   "source": [
    "# Select columns \n",
    "\n",
    "vineyards = vineyards[['Vineyard Name', 'Vineyard County', 'Vineyard Postcode',\n",
    "       'Vineyard Country', 'Website Address', 'Ha of planted vines']].copy()"
   ]
  },
  {
   "cell_type": "code",
   "execution_count": 31,
   "id": "ccebb06f-5248-4f9b-a306-4a322ae51e34",
   "metadata": {},
   "outputs": [],
   "source": [
    "# Create API\n",
    "\n",
    "geolocator = Nominatim(timeout=10, user_agent=\"PDS\")"
   ]
  },
  {
   "cell_type": "code",
   "execution_count": 32,
   "id": "9f72c1b6-402c-4604-ae7f-7a0fe6c4a644",
   "metadata": {},
   "outputs": [],
   "source": [
    "# Create geocode column \n",
    "\n",
    "vineyards['geocode'] = vineyards['Vineyard Postcode'].apply(geolocator.geocode)"
   ]
  },
  {
   "cell_type": "code",
   "execution_count": 39,
   "id": "3844c36e-cb65-4d2f-ba5b-b91c88898d10",
   "metadata": {},
   "outputs": [
    {
     "ename": "AttributeError",
     "evalue": "'NoneType' object has no attribute 'latitude'",
     "output_type": "error",
     "traceback": [
      "\u001b[0;31m---------------------------------------------------------------------------\u001b[0m",
      "\u001b[0;31mAttributeError\u001b[0m                            Traceback (most recent call last)",
      "\u001b[0;32m/tmp/ipykernel_233/1370431058.py\u001b[0m in \u001b[0;36m<module>\u001b[0;34m\u001b[0m\n\u001b[0;32m----> 1\u001b[0;31m \u001b[0mvineyards\u001b[0m\u001b[0;34m[\u001b[0m\u001b[0;34m'latitude'\u001b[0m\u001b[0;34m]\u001b[0m \u001b[0;34m=\u001b[0m \u001b[0;34m[\u001b[0m\u001b[0mg\u001b[0m\u001b[0;34m.\u001b[0m\u001b[0mlatitude\u001b[0m \u001b[0;32mfor\u001b[0m \u001b[0mg\u001b[0m \u001b[0;32min\u001b[0m \u001b[0mvineyards\u001b[0m\u001b[0;34m.\u001b[0m\u001b[0mgeocode\u001b[0m\u001b[0;34m]\u001b[0m\u001b[0;34m\u001b[0m\u001b[0;34m\u001b[0m\u001b[0m\n\u001b[0m\u001b[1;32m      2\u001b[0m \u001b[0mvineyards\u001b[0m\u001b[0;34m[\u001b[0m\u001b[0;34m'longitude'\u001b[0m\u001b[0;34m]\u001b[0m \u001b[0;34m=\u001b[0m \u001b[0;34m[\u001b[0m\u001b[0mg\u001b[0m\u001b[0;34m.\u001b[0m\u001b[0mlongitude\u001b[0m \u001b[0;32mfor\u001b[0m \u001b[0mg\u001b[0m \u001b[0;32min\u001b[0m \u001b[0mvineyards\u001b[0m\u001b[0;34m.\u001b[0m\u001b[0mgeocode\u001b[0m\u001b[0;34m]\u001b[0m\u001b[0;34m\u001b[0m\u001b[0;34m\u001b[0m\u001b[0m\n",
      "\u001b[0;32m/tmp/ipykernel_233/1370431058.py\u001b[0m in \u001b[0;36m<listcomp>\u001b[0;34m(.0)\u001b[0m\n\u001b[0;32m----> 1\u001b[0;31m \u001b[0mvineyards\u001b[0m\u001b[0;34m[\u001b[0m\u001b[0;34m'latitude'\u001b[0m\u001b[0;34m]\u001b[0m \u001b[0;34m=\u001b[0m \u001b[0;34m[\u001b[0m\u001b[0mg\u001b[0m\u001b[0;34m.\u001b[0m\u001b[0mlatitude\u001b[0m \u001b[0;32mfor\u001b[0m \u001b[0mg\u001b[0m \u001b[0;32min\u001b[0m \u001b[0mvineyards\u001b[0m\u001b[0;34m.\u001b[0m\u001b[0mgeocode\u001b[0m\u001b[0;34m]\u001b[0m\u001b[0;34m\u001b[0m\u001b[0;34m\u001b[0m\u001b[0m\n\u001b[0m\u001b[1;32m      2\u001b[0m \u001b[0mvineyards\u001b[0m\u001b[0;34m[\u001b[0m\u001b[0;34m'longitude'\u001b[0m\u001b[0;34m]\u001b[0m \u001b[0;34m=\u001b[0m \u001b[0;34m[\u001b[0m\u001b[0mg\u001b[0m\u001b[0;34m.\u001b[0m\u001b[0mlongitude\u001b[0m \u001b[0;32mfor\u001b[0m \u001b[0mg\u001b[0m \u001b[0;32min\u001b[0m \u001b[0mvineyards\u001b[0m\u001b[0;34m.\u001b[0m\u001b[0mgeocode\u001b[0m\u001b[0;34m]\u001b[0m\u001b[0;34m\u001b[0m\u001b[0;34m\u001b[0m\u001b[0m\n",
      "\u001b[0;31mAttributeError\u001b[0m: 'NoneType' object has no attribute 'latitude'"
     ]
    }
   ],
   "source": [
    "# Extract latitude and longitude\n",
    "\n",
    "vineyards['latitude'] = [g.latitude for g in vineyards.geocode]\n",
    "vineyards['longitude'] = [g.longitude for g in vineyards.geocode]"
   ]
  },
  {
   "cell_type": "code",
   "execution_count": 49,
   "id": "084b04be-7705-4cd6-9fb1-505d715089a8",
   "metadata": {},
   "outputs": [],
   "source": [
    "x = vineyards['geocode'].values.tolist()"
   ]
  },
  {
   "cell_type": "code",
   "execution_count": 46,
   "id": "bffcc915-5954-4e4d-b2a5-a29710eac7da",
   "metadata": {},
   "outputs": [
    {
     "data": {
      "text/plain": [
       "52.29337"
      ]
     },
     "execution_count": 46,
     "metadata": {},
     "output_type": "execute_result"
    }
   ],
   "source": [
    "x[0][1][0]"
   ]
  },
  {
   "cell_type": "code",
   "execution_count": 47,
   "id": "3aeeced1-f68e-4683-ba15-7994fd231ddf",
   "metadata": {},
   "outputs": [
    {
     "data": {
      "text/plain": [
       "52.29337"
      ]
     },
     "execution_count": 47,
     "metadata": {},
     "output_type": "execute_result"
    }
   ],
   "source": [
    "vineyards[\"geocode\"][0][1][0]"
   ]
  },
  {
   "cell_type": "markdown",
   "id": "ed54a1cd-f791-4686-a162-a597dfc03218",
   "metadata": {},
   "source": [
    "Unable to find a way to loop through all geocodes, so used gridreferencefinder.com/postcodeBatchConverter/"
   ]
  }
 ],
 "metadata": {
  "kernelspec": {
   "display_name": "Python 3 (ipykernel)",
   "language": "python",
   "name": "python3"
  },
  "language_info": {
   "codemirror_mode": {
    "name": "ipython",
    "version": 3
   },
   "file_extension": ".py",
   "mimetype": "text/x-python",
   "name": "python",
   "nbconvert_exporter": "python",
   "pygments_lexer": "ipython3",
   "version": "3.9.6"
  }
 },
 "nbformat": 4,
 "nbformat_minor": 5
}
